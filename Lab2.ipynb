{
  "nbformat": 4,
  "nbformat_minor": 0,
  "metadata": {
    "colab": {
      "name": "Lab2",
      "provenance": [],
      "collapsed_sections": [],
      "include_colab_link": true
    },
    "kernelspec": {
      "name": "python3",
      "display_name": "Python 3"
    }
  },
  "cells": [
    {
      "cell_type": "markdown",
      "metadata": {
        "id": "view-in-github",
        "colab_type": "text"
      },
      "source": [
        "<a href=\"https://colab.research.google.com/github/kas6929/SRA/blob/master/Lab2.ipynb\" target=\"_parent\"><img src=\"https://colab.research.google.com/assets/colab-badge.svg\" alt=\"Open In Colab\"/></a>"
      ]
    },
    {
      "cell_type": "markdown",
      "metadata": {
        "id": "6sOc4Uyr4U-Z",
        "colab_type": "text"
      },
      "source": [
        "## Graph Types"
      ]
    },
    {
      "cell_type": "markdown",
      "metadata": {
        "id": "0zZdVLAd5CYr",
        "colab_type": "text"
      },
      "source": [
        "Creator\n",
        "* Kyle Sobel"
      ]
    },
    {
      "cell_type": "markdown",
      "metadata": {
        "id": "g-r6Clq45Hn4",
        "colab_type": "text"
      },
      "source": [
        "### Deviation\n",
        "![alt text](https://raw.githubusercontent.com/kas6929/kas6929/master/Screen%20Shot%202020-02-21%20at%202.01.54%20AM.png?token=AOL5GOLOBTJC3AWW4XJRIKK6J6H74)\n"
      ]
    },
    {
      "cell_type": "markdown",
      "metadata": {
        "id": "w6bZ_NEi7E3w",
        "colab_type": "text"
      },
      "source": [
        "#### What is this telling us?"
      ]
    },
    {
      "cell_type": "markdown",
      "metadata": {
        "id": "95L-spaC7QHF",
        "colab_type": "text"
      },
      "source": [
        "This graph is showing us the succes of the college programs that start with the letter w. is shows how when you beat good seeds in college basketball you make it to farther rounds in the tourement. "
      ]
    },
    {
      "cell_type": "markdown",
      "metadata": {
        "id": "YgXyXjmz7cDP",
        "colab_type": "text"
      },
      "source": [
        "### Correlation\n",
        "![alt text](https://raw.githubusercontent.com/kas6929/kas6929/master/Screen%20Shot%202020-02-21%20at%201.17.46%20AM.png?token=AOL5GOI254AEFJGBLJ66TIK6J6IUI)\n"
      ]
    },
    {
      "cell_type": "markdown",
      "metadata": {
        "id": "dljjONNi7jmj",
        "colab_type": "text"
      },
      "source": [
        "#### What is this telling us?"
      ]
    },
    {
      "cell_type": "markdown",
      "metadata": {
        "id": "PwZEZrFB7laG",
        "colab_type": "text"
      },
      "source": [
        "This is showing us the trend over the last 30 years how the average points scored per win are looking. You would think that games in the later 2000's would have a higher scoring amount becuase of they way basketball has changed but it does not. "
      ]
    },
    {
      "cell_type": "markdown",
      "metadata": {
        "id": "MqUdI-uL7r2s",
        "colab_type": "text"
      },
      "source": [
        "### Ranking\n",
        "![alt text](https://raw.githubusercontent.com/kas6929/kas6929/master/Screen%20Shot%202020-02-21%20at%202.46.01%20AM.png?token=AOL5GOOU6R4KBYKQPOS3S5C6J6H3W)\n"
      ]
    },
    {
      "cell_type": "markdown",
      "metadata": {
        "id": "lCAYtfza7yTq",
        "colab_type": "text"
      },
      "source": [
        "#### What is this telling us?"
      ]
    },
    {
      "cell_type": "markdown",
      "metadata": {
        "id": "MyuciD277ygU",
        "colab_type": "text"
      },
      "source": [
        "Here I wanted to see how the losing mascots point total would look like against othe rlosing mascots point total."
      ]
    },
    {
      "cell_type": "markdown",
      "metadata": {
        "id": "dGDGl8-G7y8Y",
        "colab_type": "text"
      },
      "source": [
        "### Distribution\n",
        "![alt text](https://raw.githubusercontent.com/kas6929/kas6929/master/Screen%20Shot%202020-02-21%20at%202.16.42%20AM.png?token=AOL5GOMY4RCR5EZCYGN3WIK6J6IQ2)\n"
      ]
    },
    {
      "cell_type": "markdown",
      "metadata": {
        "id": "_6SOzhrQ76zH",
        "colab_type": "text"
      },
      "source": [
        "#### What is this telling us?"
      ]
    },
    {
      "cell_type": "markdown",
      "metadata": {
        "id": "HBWqsS_g767h",
        "colab_type": "text"
      },
      "source": [
        "This graph of randomly selected winning mascots types is to show how difficult it really the march madness tournwmnt ireally is. Here it shows the average round of 8 teams. The average round hovers closer to the start of march madness of 64. The brown bears have an average around 40 meaning they have probably made it out of the round of 64 a bunch of times. "
      ]
    },
    {
      "cell_type": "markdown",
      "metadata": {
        "id": "wQsDThk677Fy",
        "colab_type": "text"
      },
      "source": [
        "### Change over Time\n",
        "![alt text](https://raw.githubusercontent.com/kas6929/kas6929/master/Screen%20Shot%202020-02-21%20at%202.25.33%20AM.png?token=AOL5GOOFOQPSJOFOX4DXNSS6J6IOE)\n"
      ]
    },
    {
      "cell_type": "markdown",
      "metadata": {
        "id": "mpfsmmgi7_Vj",
        "colab_type": "text"
      },
      "source": [
        "#### What is this telling us?"
      ]
    },
    {
      "cell_type": "markdown",
      "metadata": {
        "id": "rYLXoMMO7_di",
        "colab_type": "text"
      },
      "source": [
        "This graph is showing us an event over time. This graph here, is showing us the overtime game occurences since 1985. It does not show a real trend and seems to be more random than correlated. "
      ]
    },
    {
      "cell_type": "markdown",
      "metadata": {
        "id": "lFwiHoE-7_jZ",
        "colab_type": "text"
      },
      "source": [
        "### Magnitude\n",
        "![alt text](https://raw.githubusercontent.com/kas6929/kas6929/master/Screen%20Shot%202020-02-21%20at%202.30.22%20AM.png?token=AOL5GOMB66CPSTIR36YU2QS6J6ILA)\n"
      ]
    },
    {
      "cell_type": "markdown",
      "metadata": {
        "id": "QGG7XYG88Eii",
        "colab_type": "text"
      },
      "source": [
        "#### What is this telling us?"
      ]
    },
    {
      "cell_type": "markdown",
      "metadata": {
        "id": "VS7uGa0l8Eos",
        "colab_type": "text"
      },
      "source": [
        "With this graph i wanted to see if you broke it down by region, if that would affect the number of combined seed total. I am trying to see here if one region has more wins over lower seeded teams vs. higher. "
      ]
    },
    {
      "cell_type": "markdown",
      "metadata": {
        "id": "bEKFxP8R8Evk",
        "colab_type": "text"
      },
      "source": [
        "### Part-to-Whole\n",
        "![alt text](https://raw.githubusercontent.com/kas6929/kas6929/master/Screen%20Shot%202020-02-21%20at%202.36.25%20AM.png?token=AOL5GOI4B4NDALX45NKPABK6J6IHQ)"
      ]
    },
    {
      "cell_type": "markdown",
      "metadata": {
        "id": "PNSd3wlp8UZH",
        "colab_type": "text"
      },
      "source": [
        "#### What is this telling us?"
      ]
    },
    {
      "cell_type": "markdown",
      "metadata": {
        "id": "y9tb_QRA8aqt",
        "colab_type": "text"
      },
      "source": [
        "This grpah here is showing us the total of seeds for a schools team. It breaks it down from thw whole data set, SO with all of the data, Duke has the highest number of seeds total. "
      ]
    }
  ]
}