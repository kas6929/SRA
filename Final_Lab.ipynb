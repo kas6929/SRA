{
  "nbformat": 4,
  "nbformat_minor": 0,
  "metadata": {
    "colab": {
      "name": "Final_Lab.ipynb",
      "provenance": [],
      "include_colab_link": true
    },
    "kernelspec": {
      "name": "python3",
      "display_name": "Python 3"
    }
  },
  "cells": [
    {
      "cell_type": "markdown",
      "metadata": {
        "id": "view-in-github",
        "colab_type": "text"
      },
      "source": [
        "<a href=\"https://colab.research.google.com/github/kas6929/SRA/blob/master/Final_Lab.ipynb\" target=\"_parent\"><img src=\"https://colab.research.google.com/assets/colab-badge.svg\" alt=\"Open In Colab\"/></a>"
      ]
    },
    {
      "cell_type": "markdown",
      "metadata": {
        "id": "Kw5PZBtl0Ob6",
        "colab_type": "text"
      },
      "source": [
        "# The New NBA"
      ]
    },
    {
      "cell_type": "markdown",
      "metadata": {
        "id": "iXWAmSVB0Rno",
        "colab_type": "text"
      },
      "source": [
        "Contributors:\n",
        "\n",
        "\n",
        "*   Kyle Sobel\n",
        "*   Blake Hawkins\n",
        "\n",
        "\n",
        "\n"
      ]
    },
    {
      "cell_type": "markdown",
      "metadata": {
        "id": "WpaW-i5l0ZHn",
        "colab_type": "text"
      },
      "source": [
        "## Background"
      ]
    },
    {
      "cell_type": "markdown",
      "metadata": {
        "id": "E4VKsOvP0eev",
        "colab_type": "text"
      },
      "source": [
        "The National Basketball Association, more commonly known as the NBA is one of the fastest-growing and probably the most popular sports league in the United States. It is a league that has always been fast-paced and fun to watch but it has shown to be very adaptable and has changed many times over its very long history. The NBA today looks extremely different from the NBA that its original creators would remember. The original NBA was a much slower and less athletism focused league. Passing and team basketball we're the crux of the sport. Now, the sport is still team-based, but much more focused on the individual player. Teams have superstars now that they rely on them to win games. Individuals showcase their skills and athleticism to beat teams, rather than run extravagant smart team plays that the old NBA was used to seeing. Some other changes the NBA has seen have been the addition of the 3-point line and the addition of a shot clock. The Shot clock was added to ensure games were played at a faster pace and teams could not hold the ball for minutes attempting to change the pace of the game. The 3-point line was added to shake up the normality of the NBA. People were used to what was happening in the NBA, so its leadership decided to add a whole new point scoring system to make things exciting again. Now, 40 years after the 3 point line was introduced to the NBA, It has changed the way all NBA teams play every night. "
      ]
    },
    {
      "cell_type": "markdown",
      "metadata": {
        "id": "7d8vfcGufV0_",
        "colab_type": "text"
      },
      "source": [
        "### Goal"
      ]
    },
    {
      "cell_type": "markdown",
      "metadata": {
        "id": "e1jKSGTjfY2H",
        "colab_type": "text"
      },
      "source": [
        "The goal of this project is to see how the increased number of 3-point shots per game have affected other NBA stats like free throw attempts, total rebounds, and pace.  "
      ]
    },
    {
      "cell_type": "markdown",
      "metadata": {
        "id": "GOxy_TvCfi54",
        "colab_type": "text"
      },
      "source": [
        "### Assumptions"
      ]
    },
    {
      "cell_type": "markdown",
      "metadata": {
        "id": "cw1v_1MMfnAR",
        "colab_type": "text"
      },
      "source": [
        "Insert 10 assumptions for your data model:\n",
        "*   Assumption - The total score of games will be higher\n",
        "*   Assumption - The pace of play will be higher\n",
        "*   Assumption - There will be less free throw attempts\n",
        "*   Assumption - Total Rebounds will be higher\n",
        "*   Assumption - Total 3PT attempts are higher\n",
        "*   Assumption - There are less fouls in the game\n",
        "*   Assumption - Every part of the game is changing due to 3PT\n",
        "*   Assumption - Less FG attempts in the paint\n",
        "*   Assumption - There are more 3PT fouls happening\n",
        "*   Assumption - Point guards and shooting guards will have less rebounds\n",
        "\n"
      ]
    },
    {
      "cell_type": "markdown",
      "metadata": {
        "id": "jKGILpu7gWr6",
        "colab_type": "text"
      },
      "source": [
        "### Data Sources"
      ]
    },
    {
      "cell_type": "markdown",
      "metadata": {
        "id": "uwCao7AtgbNn",
        "colab_type": "text"
      },
      "source": [
        "We knew we wanted to do some analysis sort of analysis based on stats gathered about the NBA. We pulled a few different sources and began to explore our options. As we stated in the background, the NBA is a league that has seen plenty of change, and we were looking for a trend to identify and expound on. With the recent popularity of players like Steph Curry and James Harden, we decided to look at the strength of their play styles and analyze the whole lege around that. we are referring to their super ability to make three-point shots. With the also recent analytical boom in the sports world, we noticed quickly from the data hoe prevalent the 3-point shot has become over the past 20 years. Obviously, 3 points are more than the standard 2 points per basket, so teams started to take more and more three per game realizing that hey can score more per possession with more 3's then 2's. We pulled data and looked at different sources to find interesting stats to compare to the 3-point increase over the last 20 years. We decided to look at 3-point attempts (3PA) and how they affected free-throw attempts (FTA), total rebounding numbers (TRB), and pace (possesions per 48 minutes). We choose these stats because of how we believed a rise in 3-point attempts would affect these stats. With fewer driving layups and more outside shots, we assumed FTA would decrease. More shots from outside would cause more missed shots and in turn more available rebounds. Lastly, we believed that overall the more 3-point shots taken per team would create an atmosphere of a faster-paced basketball game, increasing the pace of the game. "
      ]
    },
    {
      "cell_type": "markdown",
      "metadata": {
        "id": "kDgSdoQUgg2Z",
        "colab_type": "text"
      },
      "source": [
        "#### Sources"
      ]
    },
    {
      "cell_type": "markdown",
      "metadata": {
        "id": "dFzYIi0Agi2_",
        "colab_type": "text"
      },
      "source": [
        "https://www.basketball-reference.com/leagues/NBA_stats_per_game.html\n",
        "\n",
        "https://stats.nba.com/teams/traditional/?sort=W_PCT&dir=-1\n",
        "\n",
        "https://www.nba.com/article/2018/10/24/nba-scoring-across-league\n"
      ]
    },
    {
      "cell_type": "markdown",
      "metadata": {
        "id": "qcFak2v7g3jt",
        "colab_type": "text"
      },
      "source": [
        "## Graphs"
      ]
    },
    {
      "cell_type": "code",
      "metadata": {
        "id": "knG79vNP0Q0u",
        "colab_type": "code",
        "outputId": "45910daa-db09-4155-a6e5-5bc00c1fbc84",
        "colab": {
          "base_uri": "https://localhost:8080/",
          "height": 985
        }
      },
      "source": [
        "import IPython\n",
        "IPython.display.HTML(\"<div class='tableauPlaceholder' id='viz1588019688386' style='position: relative'><noscript><a href='#'><img alt=' ' src='https:&#47;&#47;public.tableau.com&#47;static&#47;images&#47;la&#47;lab3_15880193664720&#47;Sheet1&#47;1_rss.png' style='border: none' /></a></noscript><object class='tableauViz'  style='display:none;'><param name='host_url' value='https%3A%2F%2Fpublic.tableau.com%2F' /> <param name='embed_code_version' value='3' /> <param name='site_root' value='' /><param name='name' value='lab3_15880193664720&#47;Sheet1' /><param name='tabs' value='no' /><param name='toolbar' value='yes' /><param name='static_image' value='https:&#47;&#47;public.tableau.com&#47;static&#47;images&#47;la&#47;lab3_15880193664720&#47;Sheet1&#47;1.png' /> <param name='animate_transition' value='yes' /><param name='display_static_image' value='yes' /><param name='display_spinner' value='yes' /><param name='display_overlay' value='yes' /><param name='display_count' value='yes' /></object></div>                <script type='text/javascript'>                    var divElement = document.getElementById('viz1588019688386');                    var vizElement = divElement.getElementsByTagName('object')[0];                    vizElement.style.width='100%';vizElement.style.height=(divElement.offsetWidth*0.75)+'px';                    var scriptElement = document.createElement('script');                    scriptElement.src = 'https://public.tableau.com/javascripts/api/viz_v1.js';                    vizElement.parentNode.insertBefore(scriptElement, vizElement);                </script>\")\n"
      ],
      "execution_count": 0,
      "outputs": [
        {
          "output_type": "execute_result",
          "data": {
            "text/html": [
              "<div class='tableauPlaceholder' id='viz1588019688386' style='position: relative'><noscript><a href='#'><img alt=' ' src='https:&#47;&#47;public.tableau.com&#47;static&#47;images&#47;la&#47;lab3_15880193664720&#47;Sheet1&#47;1_rss.png' style='border: none' /></a></noscript><object class='tableauViz'  style='display:none;'><param name='host_url' value='https%3A%2F%2Fpublic.tableau.com%2F' /> <param name='embed_code_version' value='3' /> <param name='site_root' value='' /><param name='name' value='lab3_15880193664720&#47;Sheet1' /><param name='tabs' value='no' /><param name='toolbar' value='yes' /><param name='static_image' value='https:&#47;&#47;public.tableau.com&#47;static&#47;images&#47;la&#47;lab3_15880193664720&#47;Sheet1&#47;1.png' /> <param name='animate_transition' value='yes' /><param name='display_static_image' value='yes' /><param name='display_spinner' value='yes' /><param name='display_overlay' value='yes' /><param name='display_count' value='yes' /></object></div>                <script type='text/javascript'>                    var divElement = document.getElementById('viz1588019688386');                    var vizElement = divElement.getElementsByTagName('object')[0];                    vizElement.style.width='100%';vizElement.style.height=(divElement.offsetWidth*0.75)+'px';                    var scriptElement = document.createElement('script');                    scriptElement.src = 'https://public.tableau.com/javascripts/api/viz_v1.js';                    vizElement.parentNode.insertBefore(scriptElement, vizElement);                </script>"
            ],
            "text/plain": [
              "<IPython.core.display.HTML object>"
            ]
          },
          "metadata": {
            "tags": []
          },
          "execution_count": 11
        }
      ]
    },
    {
      "cell_type": "code",
      "metadata": {
        "id": "xZYaL3txXtPJ",
        "colab_type": "code",
        "outputId": "19d568c8-a44c-4184-b459-b7b42dcd3b7f",
        "colab": {
          "base_uri": "https://localhost:8080/",
          "height": 985
        }
      },
      "source": [
        "import IPython\n",
        "IPython.display.HTML(\"<div class='tableauPlaceholder' id='viz1588020079389' style='position: relative'><noscript><a href='#'><img alt=' ' src='https:&#47;&#47;public.tableau.com&#47;static&#47;images&#47;la&#47;lab3_15880193664720&#47;Sheet2&#47;1_rss.png' style='border: none' /></a></noscript><object class='tableauViz'  style='display:none;'><param name='host_url' value='https%3A%2F%2Fpublic.tableau.com%2F' /> <param name='embed_code_version' value='3' /> <param name='site_root' value='' /><param name='name' value='lab3_15880193664720&#47;Sheet2' /><param name='tabs' value='no' /><param name='toolbar' value='yes' /><param name='static_image' value='https:&#47;&#47;public.tableau.com&#47;static&#47;images&#47;la&#47;lab3_15880193664720&#47;Sheet2&#47;1.png' /> <param name='animate_transition' value='yes' /><param name='display_static_image' value='yes' /><param name='display_spinner' value='yes' /><param name='display_overlay' value='yes' /><param name='display_count' value='yes' /></object></div>                <script type='text/javascript'>                    var divElement = document.getElementById('viz1588020079389');                    var vizElement = divElement.getElementsByTagName('object')[0];                    vizElement.style.width='100%';vizElement.style.height=(divElement.offsetWidth*0.75)+'px';                    var scriptElement = document.createElement('script');                    scriptElement.src = 'https://public.tableau.com/javascripts/api/viz_v1.js';                    vizElement.parentNode.insertBefore(scriptElement, vizElement);                </script>\")"
      ],
      "execution_count": 0,
      "outputs": [
        {
          "output_type": "execute_result",
          "data": {
            "text/html": [
              "<div class='tableauPlaceholder' id='viz1588020079389' style='position: relative'><noscript><a href='#'><img alt=' ' src='https:&#47;&#47;public.tableau.com&#47;static&#47;images&#47;la&#47;lab3_15880193664720&#47;Sheet2&#47;1_rss.png' style='border: none' /></a></noscript><object class='tableauViz'  style='display:none;'><param name='host_url' value='https%3A%2F%2Fpublic.tableau.com%2F' /> <param name='embed_code_version' value='3' /> <param name='site_root' value='' /><param name='name' value='lab3_15880193664720&#47;Sheet2' /><param name='tabs' value='no' /><param name='toolbar' value='yes' /><param name='static_image' value='https:&#47;&#47;public.tableau.com&#47;static&#47;images&#47;la&#47;lab3_15880193664720&#47;Sheet2&#47;1.png' /> <param name='animate_transition' value='yes' /><param name='display_static_image' value='yes' /><param name='display_spinner' value='yes' /><param name='display_overlay' value='yes' /><param name='display_count' value='yes' /></object></div>                <script type='text/javascript'>                    var divElement = document.getElementById('viz1588020079389');                    var vizElement = divElement.getElementsByTagName('object')[0];                    vizElement.style.width='100%';vizElement.style.height=(divElement.offsetWidth*0.75)+'px';                    var scriptElement = document.createElement('script');                    scriptElement.src = 'https://public.tableau.com/javascripts/api/viz_v1.js';                    vizElement.parentNode.insertBefore(scriptElement, vizElement);                </script>"
            ],
            "text/plain": [
              "<IPython.core.display.HTML object>"
            ]
          },
          "metadata": {
            "tags": []
          },
          "execution_count": 12
        }
      ]
    },
    {
      "cell_type": "code",
      "metadata": {
        "id": "nCm33b22XvKm",
        "colab_type": "code",
        "outputId": "985b736a-77e7-4b96-8ee7-eefe043f9ad4",
        "colab": {
          "base_uri": "https://localhost:8080/",
          "height": 985
        }
      },
      "source": [
        "import IPython\n",
        "IPython.display.HTML(\"<div class='tableauPlaceholder' id='viz1588020121678' style='position: relative'><noscript><a href='#'><img alt=' ' src='https:&#47;&#47;public.tableau.com&#47;static&#47;images&#47;la&#47;lab3_15880193664720&#47;Sheet5&#47;1_rss.png' style='border: none' /></a></noscript><object class='tableauViz'  style='display:none;'><param name='host_url' value='https%3A%2F%2Fpublic.tableau.com%2F' /> <param name='embed_code_version' value='3' /> <param name='site_root' value='' /><param name='name' value='lab3_15880193664720&#47;Sheet5' /><param name='tabs' value='no' /><param name='toolbar' value='yes' /><param name='static_image' value='https:&#47;&#47;public.tableau.com&#47;static&#47;images&#47;la&#47;lab3_15880193664720&#47;Sheet5&#47;1.png' /> <param name='animate_transition' value='yes' /><param name='display_static_image' value='yes' /><param name='display_spinner' value='yes' /><param name='display_overlay' value='yes' /><param name='display_count' value='yes' /></object></div>                <script type='text/javascript'>                    var divElement = document.getElementById('viz1588020121678');                    var vizElement = divElement.getElementsByTagName('object')[0];                    vizElement.style.width='100%';vizElement.style.height=(divElement.offsetWidth*0.75)+'px';                    var scriptElement = document.createElement('script');                    scriptElement.src = 'https://public.tableau.com/javascripts/api/viz_v1.js';                    vizElement.parentNode.insertBefore(scriptElement, vizElement);                </script>\")"
      ],
      "execution_count": 0,
      "outputs": [
        {
          "output_type": "execute_result",
          "data": {
            "text/html": [
              "<div class='tableauPlaceholder' id='viz1588020121678' style='position: relative'><noscript><a href='#'><img alt=' ' src='https:&#47;&#47;public.tableau.com&#47;static&#47;images&#47;la&#47;lab3_15880193664720&#47;Sheet5&#47;1_rss.png' style='border: none' /></a></noscript><object class='tableauViz'  style='display:none;'><param name='host_url' value='https%3A%2F%2Fpublic.tableau.com%2F' /> <param name='embed_code_version' value='3' /> <param name='site_root' value='' /><param name='name' value='lab3_15880193664720&#47;Sheet5' /><param name='tabs' value='no' /><param name='toolbar' value='yes' /><param name='static_image' value='https:&#47;&#47;public.tableau.com&#47;static&#47;images&#47;la&#47;lab3_15880193664720&#47;Sheet5&#47;1.png' /> <param name='animate_transition' value='yes' /><param name='display_static_image' value='yes' /><param name='display_spinner' value='yes' /><param name='display_overlay' value='yes' /><param name='display_count' value='yes' /></object></div>                <script type='text/javascript'>                    var divElement = document.getElementById('viz1588020121678');                    var vizElement = divElement.getElementsByTagName('object')[0];                    vizElement.style.width='100%';vizElement.style.height=(divElement.offsetWidth*0.75)+'px';                    var scriptElement = document.createElement('script');                    scriptElement.src = 'https://public.tableau.com/javascripts/api/viz_v1.js';                    vizElement.parentNode.insertBefore(scriptElement, vizElement);                </script>"
            ],
            "text/plain": [
              "<IPython.core.display.HTML object>"
            ]
          },
          "metadata": {
            "tags": []
          },
          "execution_count": 13
        }
      ]
    },
    {
      "cell_type": "markdown",
      "metadata": {
        "id": "SvWfnlDjnos1",
        "colab_type": "text"
      },
      "source": [
        "## Conclusion"
      ]
    },
    {
      "cell_type": "markdown",
      "metadata": {
        "id": "rfWefr2gnxOG",
        "colab_type": "text"
      },
      "source": [
        "\n",
        "\n",
        "The National Basketball Association has drastically changed over the recent years in many ways, such as the addition of the three point line. As the NBA is becoming more popular around the country, there is a greater influence on entertainment and efficiency. There is one aspect of the game that obviously has changed thanks to recent players like Steph Curry, Klay Thompson, and James Harden and that is 3PT shooting. There was even a duo called the \"Splash Brothers\" that was known for their impressive three point shooting. When watching a NBA game, one would witness just as many 3PT shot attempts as any other shot attempts. This is not how the NBA used to be back in the era of Michael Jordan and Magic Johnson. There used to be a greater focus on the higher percentage shots like layups and short range jump shots. It is a recent phenomenon that started a couple years ago when the Golden State Warriors became near impossible to keep up with because they made so many three point shots. Now so many other teams are trying to duplicate them and looking for players that can efficiently take three point shots. Before, effective three point shooters would only go into the game when a three point bucket was needed. Now a day they are in the starting rotation because the teams need three point shots in order to keep up with the scoring of the other team. For our project we wanted to look at how the uptick in three point attempts changes other aspects of the game and it did. When analyzing the data we found exactly what we expected. We needed accurate data so we turned to three widely known resources that provided accurate NBA data. Two of those came directly from the NBA website itself. The three details we wanted to look at were the total rebounds, the pace of play, and the amount of free throw attempts. The total rebounds went up because the three point attempt is a lower percentage shot, leading to more rebounds. The pace of play went up because there were more misses leading to less stoppage in the game when a basket is made so there are quicker transitions up the floor. However the amount of free throw attempts went down because shooting fouls are less likely to happen along the perimeter than in the paint. When players shoot from closer to the basket, they are more likely to be contested by another player, drawing more fouls. Our assumptions of the data were correct and we saw a major change in multiple aspects of the game because of the increase in three point attempts. If we looked at other parts of the NBA over the years, there would probably be other influences from the three point attempts. We also believe that the three point attempt will only get popular over the years changing the game of basketball even more."
      ]
    },
    {
      "cell_type": "code",
      "metadata": {
        "id": "GiYDwrUYn0k0",
        "colab_type": "code",
        "colab": {}
      },
      "source": [
        ""
      ],
      "execution_count": 0,
      "outputs": []
    }
  ]
}